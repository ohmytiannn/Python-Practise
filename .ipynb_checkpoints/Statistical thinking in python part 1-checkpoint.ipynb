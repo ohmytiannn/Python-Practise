{
 "cells": [
  {
   "cell_type": "markdown",
   "metadata": {},
   "source": [
    "# Statistical thinking in Python. Part 1"
   ]
  },
  {
   "cell_type": "markdown",
   "metadata": {
    "collapsed": true
   },
   "source": [
    "## Plotting a histogram"
   ]
  },
  {
   "cell_type": "code",
   "execution_count": null,
   "metadata": {
    "collapsed": true
   },
   "outputs": [],
   "source": [
    "link=\"\"\n",
    "dataframe=pd.read_csv(link)\n",
    "from matplotlib import pyplot as plt\n",
    "\n",
    "bin_edges=[]#list of numbers with constant intervals\n",
    "#to determine the seperation of histogram\n",
    "\n",
    "_=plt.hist(dataframe[''],bin=bin_edges)\n",
    "_=plt.xlabel['']#la\n",
    "_=plt.ylabel['']#\n",
    "plt.show()"
   ]
  },
  {
   "cell_type": "markdown",
   "metadata": {},
   "source": [
    "### Seaborn"
   ]
  },
  {
   "cell_type": "code",
   "execution_count": null,
   "metadata": {
    "collapsed": true
   },
   "outputs": [],
   "source": [
    "import seaborn as sns\n",
    "sns.set()\n",
    "_=plt.hist(dataframe[''],bin=bin_edges)\n",
    "_=plt.xlabel['']#la\n",
    "_=plt.ylabel['']#\n",
    "plt.show()"
   ]
  },
  {
   "cell_type": "markdown",
   "metadata": {},
   "source": [
    "## Bee Swarm Plots (with seaborn)"
   ]
  },
  {
   "cell_type": "markdown",
   "metadata": {},
   "source": [
    "Weakness of histogram is that the data will defer determine on how the bins \n",
    "are chosen. This leads to binning bias. Thus there is a need for bee swarm plot"
   ]
  },
  {
   "cell_type": "markdown",
   "metadata": {},
   "source": [
    "position along the y axis is the qunatitative information Data is spread along the x axis and its precise location is not important or reflective of any physical property."
   ]
  },
  {
   "cell_type": "markdown",
   "metadata": {},
   "source": [
    "Requirement: Dataframe\n",
    "Can be generated using Seaborn\n",
    "Column: feature\n",
    "Row: Observation"
   ]
  },
  {
   "cell_type": "code",
   "execution_count": null,
   "metadata": {
    "collapsed": true
   },
   "outputs": [],
   "source": [
    "_=sns.swarmplot(x=\"\",y=\"\",data=dataframe)\n",
    "# x requires a string that is reflective of the label in the dataframe\n",
    "# same can be said for y for y xis values\n",
    "# dataframe must be a pandas dataframe\n",
    "_=plt.xlabel()#requries a string to label the x axis\n",
    "_=plt.ylabel()#requires a string to albel the y axis\n",
    "plt.show() # Show the plot"
   ]
  },
  {
   "cell_type": "markdown",
   "metadata": {},
   "source": [
    "If too much data is used, there can be overlapping data points. Thus to overcome this problem, an empirical culmulative distribution function must be plotted. \n",
    "Similar to any culmulative distribution function."
   ]
  },
  {
   "cell_type": "markdown",
   "metadata": {},
   "source": [
    "## ECDF Empirical culmulative distribution function"
   ]
  },
  {
   "cell_type": "code",
   "execution_count": null,
   "metadata": {
    "collapsed": true
   },
   "outputs": [],
   "source": [
    "import numpy as np\n",
    "from matplotlib import pyplot as plt\n",
    "x=np.sort(dataframe)# used to generate x data\n",
    "y=np.arange(1,len(x)+1)/len(x)# y data is an evenly spaced data with a maximum of 1\n",
    "_=plt.plot(x,y,marker='.',linestyle='none')# used to plot the data\n",
    "_=plt.xlabel('')#require a string for the x label\n",
    "_=plt.ylabel('')#require a string for the y label\n",
    "plt.margins(0.02)# used to keeps data off plot edges\n",
    "#usage of 0.02 gives a 2 percent buffer \n",
    "plt.show # to show the plot\n"
   ]
  },
  {
   "cell_type": "markdown",
   "metadata": {},
   "source": [
    "## ECDF"
   ]
  },
  {
   "cell_type": "code",
   "execution_count": 4,
   "metadata": {
    "collapsed": true
   },
   "outputs": [],
   "source": [
    "import numpy as np\n",
    "def ecdf(data):\n",
    "  n=len(data)\n",
    "  x=np.sort(data)\n",
    "  y=np.arange(1,n+1)/n\n",
    "  return x, y"
   ]
  },
  {
   "cell_type": "markdown",
   "metadata": {},
   "source": [
    "# Quantitative exploratory data exploration"
   ]
  },
  {
   "cell_type": "markdown",
   "metadata": {},
   "source": [
    "## Mean"
   ]
  },
  {
   "cell_type": "code",
   "execution_count": null,
   "metadata": {
    "collapsed": true
   },
   "outputs": [],
   "source": [
    "import numpy as np\n",
    "np.mean(array)"
   ]
  },
  {
   "cell_type": "markdown",
   "metadata": {},
   "source": [
    "## Median"
   ]
  },
  {
   "cell_type": "code",
   "execution_count": null,
   "metadata": {
    "collapsed": true
   },
   "outputs": [],
   "source": [
    "import numpy as np\n",
    "np.median(array)"
   ]
  },
  {
   "cell_type": "markdown",
   "metadata": {},
   "source": [
    "## Percentiles"
   ]
  },
  {
   "cell_type": "code",
   "execution_count": null,
   "metadata": {
    "collapsed": true
   },
   "outputs": [],
   "source": [
    "import numpy as np\n",
    "np.percentile(dataframe,np.array([25,50,75]) #2nd argument must contain an array that of percentile values that you want\n",
    "#in this case, it reflects 25th 50th 75th percentiles\n",
    "#returns an array that matches those percentiles"
   ]
  },
  {
   "cell_type": "markdown",
   "metadata": {},
   "source": [
    "## Box plot(with seaborn)"
   ]
  },
  {
   "cell_type": "markdown",
   "metadata": {},
   "source": [
    "IQR is the distance between the 75th and 25th percentile.\n",
    "Box plots have whiskers that extend 1.5 IQR from the 75th and the 25th percentiles\n",
    "Any point that lies beyond the whiskers are outliers. "
   ]
  },
  {
   "cell_type": "code",
   "execution_count": null,
   "metadata": {
    "collapsed": true
   },
   "outputs": [],
   "source": [
    "from matplotlib import pyplot as plt\n",
    "import seaborn as sns\n",
    "_=sns.boxplot(x=\"\",y=\"\",data=dataframe)#x and y must be strings that correspond to column names in the dataframe\n",
    "_=plt.xlabel('')#x label must be a string\n",
    "_=plt.ylabel('')#y label must be a string\n",
    "plt.show()"
   ]
  },
  {
   "cell_type": "markdown",
   "metadata": {},
   "source": [
    "## Variance and Standard Deviation"
   ]
  },
  {
   "cell_type": "code",
   "execution_count": null,
   "metadata": {
    "collapsed": true
   },
   "outputs": [],
   "source": [
    "import numpy as np\n",
    "var=np.var(array)\n",
    "sd=np.sqrt(var)\n",
    "#or use\n",
    "sd=np.std(array)"
   ]
  },
  {
   "cell_type": "markdown",
   "metadata": {},
   "source": [
    "## Scatterplot"
   ]
  },
  {
   "cell_type": "code",
   "execution_count": null,
   "metadata": {
    "collapsed": true
   },
   "outputs": [],
   "source": [
    "_=plt.plot(versicolor_petal_length,versicolor_petal_width,marker='.',linestyle='none')\n",
    "plt.margins(0.02)\n",
    "_=plt.xlabel('x')\n",
    "_=plt.ylabel('y')\n",
    "plt.show()"
   ]
  },
  {
   "cell_type": "markdown",
   "metadata": {},
   "source": [
    "## Covariance"
   ]
  },
  {
   "cell_type": "code",
   "execution_count": null,
   "metadata": {
    "collapsed": true
   },
   "outputs": [],
   "source": [
    "#generation of covariance matrix\n",
    "covariance_matrix=np.cov(array_1,array_2)\n",
    "#will return a matrix of values"
   ]
  },
  {
   "cell_type": "markdown",
   "metadata": {},
   "source": [
    "## Pearson correlation Coefficient"
   ]
  },
  {
   "cell_type": "code",
   "execution_count": null,
   "metadata": {
    "collapsed": true
   },
   "outputs": [],
   "source": [
    "#create the pearson correlation coefficient\n",
    "correlation_matrix=np.corrcoef(array_1,array_2)\n",
    "cooreltaion_matrix[0,1] #r value"
   ]
  },
  {
   "cell_type": "markdown",
   "metadata": {},
   "source": [
    "# Thinking Proabilistically"
   ]
  },
  {
   "cell_type": "markdown",
   "metadata": {},
   "source": [
    "Sudo RNG"
   ]
  },
  {
   "cell_type": "code",
   "execution_count": null,
   "metadata": {
    "collapsed": true
   },
   "outputs": [],
   "source": [
    "import numpy as np\n",
    "np.random.seed()# for reproduceable code\n",
    "np.random.random(size=number_of_random_numbers_you_want)#draw a number between 1 and 0 \n",
    "np.empty(1000) # to generate an array with length of 1000\n"
   ]
  },
  {
   "cell_type": "markdown",
   "metadata": {},
   "source": [
    "## Binomial Distribution"
   ]
  },
  {
   "cell_type": "code",
   "execution_count": 2,
   "metadata": {
    "collapsed": false
   },
   "outputs": [
    {
     "data": {
      "text/plain": [
       "array([51, 53, 49, 49, 51, 51, 58, 53, 51, 56])"
      ]
     },
     "execution_count": 2,
     "metadata": {},
     "output_type": "execute_result"
    }
   ],
   "source": [
    "import numpy as np\n",
    "#np.random.binomial(no_of_trials,prob_of_success,size=10)\n",
    "np.random.binomial(n=100,p=0.5,size=10)"
   ]
  },
  {
   "cell_type": "markdown",
   "metadata": {},
   "source": [
    "## Binomial CDF"
   ]
  },
  {
   "cell_type": "code",
   "execution_count": 7,
   "metadata": {
    "collapsed": false
   },
   "outputs": [
    {
     "data": {
      "image/png": "[encoded data removed]",
      "text/plain": [
       "<matplotlib.figure.Figure at 0x1f39ad9fbe0>"
      ]
     },
     "metadata": {},
     "output_type": "display_data"
    }
   ],
   "source": [
    "import numpy as np\n",
    "from matplotlib import pyplot as plt\n",
    "import seaborn as sns\n",
    "sns.set()\n",
    "samples=np.random.binomial(n=100,p=0.5,size=100000)\n",
    "x,y =ecdf(samples)\n",
    "_=plt.plot(x,y,marker='.',linestyle='none')\n",
    "plt.margins(0.02)\n",
    "_=plt.xlabel('x')\n",
    "_=plt.ylabel('y')\n",
    "plt.show()"
   ]
  },
  {
   "cell_type": "markdown",
   "metadata": {},
   "source": [
    "## Poisson"
   ]
  },
  {
   "cell_type": "code",
   "execution_count": 9,
   "metadata": {
    "collapsed": false
   },
   "outputs": [
    {
     "data": {
      "image/png": "[encoded data removed]",
      "text/plain": [
       "<matplotlib.figure.Figure at 0x1f39c81e5f8>"
      ]
     },
     "metadata": {},
     "output_type": "display_data"
    }
   ],
   "source": [
    "import numpy as np\n",
    "samples=np.random.poisson(6,size=100000)\n",
    "x,y=ecdf(samples)\n",
    "_=plt.plot(x,y,marker='.',linestyle='none')\n",
    "plt.margins(0.02)\n",
    "_=plt.xlabel('x')\n",
    "_=plt.ylabel('y')\n",
    "plt.show()"
   ]
  },
  {
   "cell_type": "markdown",
   "metadata": {},
   "source": [
    "# Probability Density Functions "
   ]
  },
  {
   "cell_type": "markdown",
   "metadata": {},
   "source": [
    "## Normal Distribution functions "
   ]
  },
  {
   "cell_type": "code",
   "execution_count": null,
   "metadata": {
    "collapsed": true
   },
   "outputs": [],
   "source": [
    "import numpy as np\n",
    "from matplotlib import pyplot as plt\n",
    "import seaborn as sns\n",
    "\n",
    "mean=np.mean(list)\n",
    "std=np.std(list)\n",
    "samples=np.random.normal(mean,std,size=10000)\n",
    "x,y=ecdf(list)\n",
    "x_theor, y_theor=ecdf(samples)\n",
    "\n",
    "sns.set()\n",
    "_=plt.plot(x_theor,y_theor)\n",
    "_=plt.plt(x,y,marker='.',linestyle='none')\n",
    "_=plt.xlabel()\n",
    "_=plt.ylabel()\n",
    "plt.show()"
   ]
  },
  {
   "cell_type": "markdown",
   "metadata": {},
   "source": [
    "### Example"
   ]
  },
  {
   "cell_type": "code",
   "execution_count": null,
   "metadata": {
    "collapsed": true
   },
   "outputs": [],
   "source": [
    "# Compute mean and standard deviation: mu, sigma\n",
    "mu=np.mean(belmont_no_outliers)\n",
    "sigma=np.std(belmont_no_outliers)\n",
    "\n",
    "\n",
    "# Sample out of a normal distribution with this mu and sigma: samples\n",
    "samples=np.random.normal(mu,sigma,size=10000)\n",
    "\n",
    "# Get the CDF of the samples and of the data\n",
    "x_theor,y_theor=ecdf(samples)\n",
    "x,y=ecdf(belmont_no_outliers)\n",
    "\n",
    "\n",
    "# Plot the CDFs and show the plot\n",
    "_ = plt.plot(x_theor, y_theor)\n",
    "_ = plt.plot(x, y, marker='.', linestyle='none')\n",
    "plt.margins(0.02)\n",
    "_ = plt.xlabel('Belmont winning time (sec.)')\n",
    "_ = plt.ylabel('CDF')\n",
    "plt.show()\n"
   ]
  },
  {
   "cell_type": "markdown",
   "metadata": {},
   "source": [
    "## Exponential Distribution"
   ]
  },
  {
   "cell_type": "markdown",
   "metadata": {},
   "source": [
    "mean=np.mean()\n",
    "samples=np.random.exponential(mean, size=10000)\n",
    "x,y=ecdf(samples)\n",
    "x_theor, y_theor=ecdf(samples)\n",
    "_=plt.plot(x,y,marker='.',linestyle='none')\n",
    "_=plt.plot(x_theor,y_theor)\n",
    "_=plt.xlabel('')\n",
    "_=plt.ylabel('')\n",
    "plt.show()"
   ]
  },
  {
   "cell_type": "markdown",
   "metadata": {},
   "source": []
  },
  {
   "cell_type": "markdown",
   "metadata": {},
   "source": []
  }
 ],
 "metadata": {
  "kernelspec": {
   "display_name": "Python 3",
   "language": "python",
   "name": "python3"
  },
  "language_info": {
   "codemirror_mode": {
    "name": "ipython",
    "version": 3
   },
   "file_extension": ".py",
   "mimetype": "text/x-python",
   "name": "python",
   "nbconvert_exporter": "python",
   "pygments_lexer": "ipython3",
   "version": "3.6.0"
  }
 },
 "nbformat": 4,
 "nbformat_minor": 2
}
